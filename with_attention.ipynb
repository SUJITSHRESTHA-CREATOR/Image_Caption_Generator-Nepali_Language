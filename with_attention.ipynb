{
 "cells": [
  {
   "cell_type": "code",
   "execution_count": 1,
   "id": "658b1826",
   "metadata": {},
   "outputs": [],
   "source": [
    "import os\n",
    "import numpy as np\n",
    "from tensorflow.keras.applications.vgg16 import VGG16, preprocess_input\n",
    "from tensorflow.keras.preprocessing.image import load_img, img_to_array\n",
    "from tensorflow.keras.preprocessing.text import Tokenizer\n",
    "from tensorflow.keras.preprocessing.sequence import pad_sequences\n",
    "from tensorflow.keras.models import Model\n",
    "from tensorflow.keras.layers import Input, Dense, LSTM, Embedding, Dropout, add, Bidirectional, Attention\n",
    "from tensorflow.keras.optimizers import Adam\n",
    "from tensorflow.keras.regularizers import l2\n",
    "from tensorflow.keras.callbacks import EarlyStopping"
   ]
  },
  {
   "cell_type": "code",
   "execution_count": 2,
   "id": "c28a809a",
   "metadata": {},
   "outputs": [],
   "source": [
    "# Define directories\n",
    "BASE_DIR = r'C:\\Users\\RippleNova\\img_VGG16'\n",
    "IMAGES_DIR = r'C:\\Users\\RippleNova\\img_VGG16\\dataset\\ficker8k_images'\n",
    "CAPTIONS_FILE = r'C:\\Users\\RippleNova\\img_VGG16\\dataset\\captions.txt'\n",
    "WORKING_DIR = r'C:\\Users\\RippleNova\\img_VGG16\\model'"
   ]
  },
  {
   "cell_type": "code",
   "execution_count": 3,
   "id": "48c3809c",
   "metadata": {},
   "outputs": [],
   "source": [
    "# VGG16 feature extraction\n",
    "model = VGG16()\n",
    "model = Model(inputs=model.inputs, outputs=model.layers[-2].output)"
   ]
  },
  {
   "cell_type": "code",
   "execution_count": 6,
   "id": "77c5d944",
   "metadata": {
    "scrolled": false
   },
   "outputs": [],
   "source": [
    "# Extract features\n",
    "features = {}\n",
    "for img_name in os.listdir(IMAGES_DIR):\n",
    "    img_path = os.path.join(IMAGES_DIR, img_name)\n",
    "    image = load_img(img_path, target_size=(224,224))\n",
    "    image = img_to_array(image)\n",
    "    image = image.reshape((1, image.shape[0], image.shape[1], image.shape[2]))\n",
    "    image = preprocess_input(image)\n",
    "    feature = model.predict(image, verbose=0)\n",
    "    image_id = img_name.split('.')[0]\n",
    "    features[image_id] = feature"
   ]
  },
  {
   "cell_type": "code",
   "execution_count": 7,
   "id": "4d2d3338",
   "metadata": {},
   "outputs": [],
   "source": [
    "# Load and preprocess captions\n",
    "captions_file_path = CAPTIONS_FILE\n",
    "with open(captions_file_path, 'r', encoding='utf-8') as file:\n",
    "    captions_doc = file.read()"
   ]
  },
  {
   "cell_type": "code",
   "execution_count": 8,
   "id": "e66c1d99",
   "metadata": {},
   "outputs": [],
   "source": [
    "# Map captions to image IDs\n",
    "mapping = {}\n",
    "for line in captions_doc.split('\\n'):\n",
    "    tokens = line.split('.')\n",
    "    if len(line) < 2:\n",
    "        continue\n",
    "    image_id, caption = tokens[0], tokens[1:]\n",
    "    image_id = image_id.split('.')[0]\n",
    "    caption = ' '.join(caption)\n",
    "    if image_id not in mapping:\n",
    "        mapping[image_id] = []\n",
    "    mapping[image_id].append(caption)"
   ]
  },
  {
   "cell_type": "code",
   "execution_count": 9,
   "id": "c4a02119",
   "metadata": {},
   "outputs": [],
   "source": [
    "# Cleaning captions\n",
    "import re\n",
    "\n",
    "def clean(mapping):\n",
    "    for key, captions_list in mapping.items():\n",
    "        for i in range(len(captions_list)):\n",
    "            caption = captions_list[i]\n",
    "            caption = caption.lower()\n",
    "            caption = re.sub(u'[\\u0964\\u0951\\u0966-\\u096F]+', '', caption)\n",
    "            caption = re.sub(r'[0-9]', '', caption)\n",
    "            caption = re.sub(r'\\s+', ' ', caption).strip()\n",
    "            caption = 'startseq ' + caption + ' endseq'\n",
    "            captions_list[i] = caption\n",
    "\n",
    "clean(mapping)"
   ]
  },
  {
   "cell_type": "code",
   "execution_count": 10,
   "id": "20316ddf",
   "metadata": {},
   "outputs": [],
   "source": [
    "# Tokenize captions\n",
    "all_captions = []\n",
    "for key in mapping:\n",
    "    for caption in mapping[key]:\n",
    "        all_captions.append(caption)\n",
    "\n",
    "tokenizer = Tokenizer()\n",
    "tokenizer.fit_on_texts(all_captions)\n",
    "vocab_size = len(tokenizer.word_index) + 1\n",
    "\n",
    "max_length = max(len(caption.split()) for caption in all_captions)"
   ]
  },
  {
   "cell_type": "code",
   "execution_count": 11,
   "id": "cba94609",
   "metadata": {},
   "outputs": [],
   "source": [
    "# Split data into training and test sets\n",
    "image_ids = list(mapping.keys())\n",
    "split = int(len(image_ids) * 0.80)\n",
    "train = image_ids[:split]\n",
    "test = image_ids[split:]"
   ]
  },
  {
   "cell_type": "code",
   "execution_count": 14,
   "id": "d7937e8b",
   "metadata": {},
   "outputs": [],
   "source": [
    "# Embedding layer (train from scratch)\n",
    "embedding_dim = 256\n",
    "\n",
    "# Define the embedding layer (learned from scratch)\n",
    "embedding_layer = Embedding(input_dim=vocab_size, \n",
    "                            output_dim=embedding_dim, \n",
    "                            input_length=max_length, \n",
    "                            trainable=True)"
   ]
  },
  {
   "cell_type": "code",
   "execution_count": 34,
   "id": "86f7068e",
   "metadata": {},
   "outputs": [],
   "source": [
    "def data_generator(data_keys, mapping, features, tokenizer, max_length, vocab_size, batch_size):\n",
    "    X1, X2, y = list(), list(), list()\n",
    "    n = 0\n",
    "    while 1:\n",
    "        for key in data_keys:\n",
    "            n += 1\n",
    "            captions = mapping[key]\n",
    "            for caption in captions:\n",
    "                seq = tokenizer.texts_to_sequences([caption])[0]\n",
    "                for i in range(1, len(seq)):\n",
    "                    in_seq, out_seq = seq[:i], seq[i]\n",
    "                    in_seq = pad_sequences([in_seq], maxlen=max_length)[0]\n",
    "                    out_seq = to_categorical([out_seq], num_classes=vocab_size)[0]\n",
    "                    X1.append(features[key][0])\n",
    "                    X2.append(in_seq)\n",
    "                    y.append(out_seq)\n",
    "            if n == batch_size:\n",
    "                X1, X2, y = np.array(X1), np.array(X2), np.array(y)\n",
    "                yield [X1, X2], y\n",
    "                X1, X2, y = list(), list(), list()\n",
    "                n = 0"
   ]
  },
  {
   "cell_type": "code",
   "execution_count": 38,
   "id": "2d6c030e",
   "metadata": {},
   "outputs": [],
   "source": [
    "from tensorflow.keras.layers import Input, Dropout, Dense, Embedding, LSTM, Bidirectional, Attention, add, GlobalAveragePooling1D\n",
    "from tensorflow.keras.models import Model\n",
    "from tensorflow.keras.optimizers import Adam\n",
    "from tensorflow.keras.regularizers import l2\n",
    "\n",
    "# Define model parameters\n",
    "max_length = 32\n",
    "vocab_size = 13990\n",
    "\n",
    "# Encoder (Image features)\n",
    "inputs1 = Input(shape=(4096,))\n",
    "fe1 = Dropout(0.4)(inputs1)\n",
    "fe2 = Dense(512, activation='relu', kernel_regularizer=l2(0.01))(fe1)\n",
    "\n",
    "# Decoder (Text features)\n",
    "inputs2 = Input(shape=(max_length,))\n",
    "se1 = Embedding(vocab_size, 256, mask_zero=True, trainable=True)(inputs2)\n",
    "se2 = Dropout(0.4)(se1)\n",
    "se3 = Bidirectional(LSTM(512, return_sequences=True))(se2)\n",
    "\n",
    "# Attention layer\n",
    "attention = Attention()([se3, se3])\n",
    "\n",
    "# Apply GlobalAveragePooling1D\n",
    "attention = GlobalAveragePooling1D()(attention)\n",
    "\n",
    "# Match dimensions of attention to fe2\n",
    "attention = Dense(512, activation='relu')(attention)\n",
    "\n",
    "# Combine features\n",
    "decoder1 = add([fe2, attention])\n",
    "decoder2 = Dense(512, activation='relu')(decoder1)\n",
    "outputs = Dense(vocab_size, activation='softmax')(decoder2)\n",
    "\n",
    "model = Model(inputs=[inputs1, inputs2], outputs=outputs)\n",
    "model.compile(loss=\"categorical_crossentropy\", optimizer=Adam(learning_rate=1e-5))\n",
    "\n"
   ]
  },
  {
   "cell_type": "code",
   "execution_count": 39,
   "id": "d7f4fc14",
   "metadata": {},
   "outputs": [
    {
     "name": "stdout",
     "output_type": "stream",
     "text": [
      "Model: \"model_5\"\n",
      "__________________________________________________________________________________________________\n",
      " Layer (type)                Output Shape                 Param #   Connected to                  \n",
      "==================================================================================================\n",
      " input_21 (InputLayer)       [(None, 32)]                 0         []                            \n",
      "                                                                                                  \n",
      " embedding_10 (Embedding)    (None, 32, 256)              3581440   ['input_21[0][0]']            \n",
      "                                                                                                  \n",
      " dropout_19 (Dropout)        (None, 32, 256)              0         ['embedding_10[0][0]']        \n",
      "                                                                                                  \n",
      " bidirectional_9 (Bidirecti  (None, 32, 1024)             3149824   ['dropout_19[0][0]']          \n",
      " onal)                                                                                            \n",
      "                                                                                                  \n",
      " input_20 (InputLayer)       [(None, 4096)]               0         []                            \n",
      "                                                                                                  \n",
      " attention_9 (Attention)     (None, 32, 1024)             0         ['bidirectional_9[0][0]',     \n",
      "                                                                     'bidirectional_9[0][0]']     \n",
      "                                                                                                  \n",
      " dropout_18 (Dropout)        (None, 4096)                 0         ['input_20[0][0]']            \n",
      "                                                                                                  \n",
      " global_average_pooling1d_3  (None, 1024)                 0         ['attention_9[0][0]']         \n",
      "  (GlobalAveragePooling1D)                                                                        \n",
      "                                                                                                  \n",
      " dense_21 (Dense)            (None, 512)                  2097664   ['dropout_18[0][0]']          \n",
      "                                                                                                  \n",
      " dense_22 (Dense)            (None, 512)                  524800    ['global_average_pooling1d_3[0\n",
      "                                                                    ][0]']                        \n",
      "                                                                                                  \n",
      " add_9 (Add)                 (None, 512)                  0         ['dense_21[0][0]',            \n",
      "                                                                     'dense_22[0][0]']            \n",
      "                                                                                                  \n",
      " dense_23 (Dense)            (None, 512)                  262656    ['add_9[0][0]']               \n",
      "                                                                                                  \n",
      " dense_24 (Dense)            (None, 13990)                7176870   ['dense_23[0][0]']            \n",
      "                                                                                                  \n",
      "==================================================================================================\n",
      "Total params: 16793254 (64.06 MB)\n",
      "Trainable params: 16793254 (64.06 MB)\n",
      "Non-trainable params: 0 (0.00 Byte)\n",
      "__________________________________________________________________________________________________\n",
      "None\n"
     ]
    }
   ],
   "source": [
    "print(model.summary())"
   ]
  },
  {
   "cell_type": "code",
   "execution_count": null,
   "id": "1a2e1024",
   "metadata": {},
   "outputs": [
    {
     "name": "stdout",
     "output_type": "stream",
     "text": [
      "Epoch 1/30\n",
      " 35/202 [====>.........................] - ETA: 2:07:28 - loss: 18.4161"
     ]
    }
   ],
   "source": [
    "from tensorflow.keras.callbacks import EarlyStopping\n",
    "\n",
    "# Define early stopping\n",
    "early_stopping = EarlyStopping(monitor='loss', patience=3, restore_best_weights=True)\n",
    "\n",
    "# Training parameters\n",
    "epochs = 30\n",
    "batch_size = 32\n",
    "\n",
    "# Calculate number of steps per epoch\n",
    "steps = len(train) // batch_size  # Integer division\n",
    "\n",
    "# Training loop\n",
    "for epoch in range(epochs):\n",
    "    print(f\"Epoch {epoch + 1}/{epochs}\")\n",
    "    generator = data_generator(train, mapping, features, tokenizer, max_length, vocab_size, batch_size)\n",
    "    model.fit(generator, epochs=1, steps_per_epoch=steps, verbose=1, callbacks=[early_stopping])\n"
   ]
  },
  {
   "cell_type": "code",
   "execution_count": null,
   "id": "f31309ad",
   "metadata": {},
   "outputs": [],
   "source": [
    "# Save model\n",
    "model.save(WORKING_DIR + '/model_with_attention.h5')"
   ]
  },
  {
   "cell_type": "code",
   "execution_count": null,
   "id": "9a33381d",
   "metadata": {},
   "outputs": [],
   "source": [
    "# Evaluate BLEU scores\n",
    "from nltk.translate.bleu_score import corpus_bleu, SmoothingFunction\n",
    "smooth = SmoothingFunction().method4\n",
    "actual, predicted = list(), list()\n",
    "\n",
    "for key in test:\n",
    "    captions = mapping[key]\n",
    "    y_pred = predict_caption(model, features[key], tokenizer, max_length)\n",
    "    actual_captions = [caption.split() for caption in captions]\n",
    "    y_pred = y_pred.split()\n",
    "    actual.append(actual_captions)\n",
    "    predicted.append(y_pred)\n",
    "\n",
    "# BLEU scores\n",
    "print(\"BLEU-1: %f\" % corpus_bleu(actual, predicted, weights=(1.0, 0, 0, 0), smoothing_function=smooth))\n",
    "print(\"BLEU-2: %f\" % corpus_bleu(actual, predicted, weights=(0.5, 0.5, 0, 0), smoothing_function=smooth))\n",
    "print(\"BLEU-3: %f\" % corpus_bleu(actual, predicted, weights=(0.33, 0.33, 0.33, 0), smoothing_function=smooth))\n",
    "print(\"BLEU-4: %f\" % corpus_bleu(actual, predicted, weights=(0.25, 0.25, 0.25, 0.25), smoothing_function=smooth))"
   ]
  },
  {
   "cell_type": "code",
   "execution_count": null,
   "id": "2d0e903e",
   "metadata": {},
   "outputs": [],
   "source": []
  },
  {
   "cell_type": "code",
   "execution_count": null,
   "id": "27a4271b",
   "metadata": {},
   "outputs": [],
   "source": []
  }
 ],
 "metadata": {
  "kernelspec": {
   "display_name": "Python 3 (ipykernel)",
   "language": "python",
   "name": "python3"
  },
  "language_info": {
   "codemirror_mode": {
    "name": "ipython",
    "version": 3
   },
   "file_extension": ".py",
   "mimetype": "text/x-python",
   "name": "python",
   "nbconvert_exporter": "python",
   "pygments_lexer": "ipython3",
   "version": "3.11.4"
  }
 },
 "nbformat": 4,
 "nbformat_minor": 5
}
